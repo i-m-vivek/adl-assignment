{
  "nbformat": 4,
  "nbformat_minor": 0,
  "metadata": {
    "colab": {
      "name": "CS672 A1  | Ques 2",
      "provenance": [],
      "collapsed_sections": []
    },
    "kernelspec": {
      "name": "python3",
      "display_name": "Python 3"
    },
    "language_info": {
      "name": "python"
    },
    "accelerator": "GPU"
  },
  "cells": [
    {
      "cell_type": "code",
      "metadata": {
        "id": "ua27AvencpTt"
      },
      "source": [
        "from google.colab import drive\n",
        "drive.mount('/content/drive')"
      ],
      "execution_count": null,
      "outputs": []
    },
    {
      "cell_type": "code",
      "metadata": {
        "id": "oSwt7RFnYSya"
      },
      "source": [
        "!pip install pytorch-metric-learning\n",
        "!pip install faiss-gpu\n",
        "!unzip \"/content/drive/MyDrive/ADL Work/PA1/matching_task.zip\""
      ],
      "execution_count": null,
      "outputs": []
    },
    {
      "cell_type": "code",
      "metadata": {
        "id": "jNsQDagDZgHF"
      },
      "source": [
        "from pytorch_metric_learning import losses, miners, distances, reducers, testers\n",
        "from pytorch_metric_learning.utils.accuracy_calculator import AccuracyCalculator\n",
        "from torchvision import datasets\n",
        "from torch.utils.data import Dataset, DataLoader\n",
        "import torch\n",
        "import torch.nn as nn\n",
        "import torch.nn.functional as F\n",
        "import torch.optim as optim\n",
        "from torchvision import datasets, transforms, models\n",
        "import numpy as np\n",
        "import pandas as pd\n",
        "import os\n",
        "from skimage import io, transform\n",
        "from PIL import Image\n",
        "from sklearn.utils import shuffle\n",
        "import copy"
      ],
      "execution_count": null,
      "outputs": []
    },
    {
      "cell_type": "code",
      "metadata": {
        "id": "b7quM8DMZl5N"
      },
      "source": [
        "class MatchingDataset(Dataset):\n",
        "    \"\"\"Matching dataset.\"\"\"\n",
        "\n",
        "    def __init__(self, df, root_dir, transform=None):\n",
        "        \"\"\"\n",
        "        Args:\n",
        "            root_dir (string): Directory with all the images.\n",
        "            transform (callable, optional): Optional transform to be applied\n",
        "                on a sample.\n",
        "        \"\"\"\n",
        "        self.df = df\n",
        "        self.root_dir = root_dir\n",
        "        self.transform = transform\n",
        "\n",
        "    def __len__(self):\n",
        "        return len(self.df)\n",
        "\n",
        "    def __getitem__(self, idx):\n",
        "        folder, img_name = self.df.iloc[idx][\"image_id\"].split(\"_\")\n",
        "        img_path = os.path.join(self.root_dir, folder, img_name)\n",
        "        image = Image.open(img_path)\n",
        "        label = self.df.iloc[idx, 1]\n",
        "        label = label-1\n",
        "\n",
        "        if self.transform:\n",
        "            image = self.transform(image)\n",
        "        return image, label"
      ],
      "execution_count": null,
      "outputs": []
    },
    {
      "cell_type": "code",
      "metadata": {
        "colab": {
          "base_uri": "https://localhost:8080/"
        },
        "id": "4dwgOMbhiibS",
        "outputId": "f3a2cc91-c687-4c37-e6d5-a6172e6f0b21"
      },
      "source": [
        "train_df = pd.read_csv(\"/content/matching_task/matching_train.csv\")\n",
        "train_df = shuffle(train_df, random_state=1411)\n",
        "\n",
        "image_ids = train_df['image_id'].unique()\n",
        "\n",
        "valid_ids = image_ids[-486:]\n",
        "train_ids = image_ids[:-486]\n",
        "\n",
        "valid_df = train_df[train_df['image_id'].isin(valid_ids)]\n",
        "train_df = train_df[train_df['image_id'].isin(train_ids)]\n",
        "\n",
        "valid_df.shape, train_df.shape"
      ],
      "execution_count": null,
      "outputs": [
        {
          "output_type": "execute_result",
          "data": {
            "text/plain": [
              "((486, 2), (1944, 2))"
            ]
          },
          "metadata": {},
          "execution_count": 5
        }
      ]
    },
    {
      "cell_type": "code",
      "metadata": {
        "id": "UIwVGTT4abyT"
      },
      "source": [
        "data_transforms = {\n",
        "    'train': transforms.Compose([\n",
        "        transforms.Resize((110,300)),\n",
        "        transforms.RandomHorizontalFlip(),\n",
        "        transforms.ToTensor(),\n",
        "        transforms.Normalize([0.485, 0.456, 0.406], [0.229, 0.224, 0.225])\n",
        "    ]),\n",
        "    'val': transforms.Compose([\n",
        "        transforms.Resize((110,300)),\n",
        "        transforms.ToTensor(),\n",
        "        transforms.Normalize([0.485, 0.456, 0.406], [0.229, 0.224, 0.225])\n",
        "    ]),\n",
        "}"
      ],
      "execution_count": null,
      "outputs": []
    },
    {
      "cell_type": "code",
      "metadata": {
        "id": "dflVdnAAdbv8"
      },
      "source": [
        "def train(model, loss_func, device, train_loader, optimizer, epoch):\n",
        "    model.train()\n",
        "    for batch_idx, (data, labels) in enumerate(train_loader):\n",
        "        data, labels = data.to(device), labels.to(device)\n",
        "        optimizer.zero_grad()\n",
        "        embeddings = model(data)\n",
        "        loss = loss_func(embeddings, labels)\n",
        "        loss.backward()\n",
        "        optimizer.step()\n",
        "        if batch_idx % 20 == 0:\n",
        "            print(\"Epoch {} Iteration {}: Loss = {}\".format(epoch, batch_idx, loss))"
      ],
      "execution_count": null,
      "outputs": []
    },
    {
      "cell_type": "code",
      "metadata": {
        "id": "veSUlOzuddPt"
      },
      "source": [
        "def get_all_embeddings(dataset, model):\n",
        "    tester = testers.BaseTester()\n",
        "    return tester.get_all_embeddings(dataset, model)"
      ],
      "execution_count": null,
      "outputs": []
    },
    {
      "cell_type": "code",
      "metadata": {
        "id": "dwX2zLYvhOFs"
      },
      "source": [
        "def test(train_set, test_set, model, accuracy_calculator):\n",
        "    train_embeddings, train_labels = get_all_embeddings(train_set, model)\n",
        "    test_embeddings, test_labels = get_all_embeddings(test_set, model)\n",
        "    train_labels = train_labels.squeeze(1)\n",
        "    test_labels = test_labels.squeeze(1)\n",
        "    print(\"Computing accuracy\")\n",
        "    accuracies = accuracy_calculator.get_accuracy(test_embeddings, \n",
        "                                                train_embeddings,\n",
        "                                                test_labels,\n",
        "                                                train_labels,\n",
        "                                                False)\n",
        "    print(\"Test set accuracy (Precision@1) = {}\".format(accuracies[\"precision_at_1\"]))\n",
        "    return accuracies"
      ],
      "execution_count": null,
      "outputs": []
    },
    {
      "cell_type": "code",
      "metadata": {
        "id": "oyGaH07bhQWw"
      },
      "source": [
        "device = torch.device(\"cuda\")\n",
        "\n",
        "train_dataset = MatchingDataset(train_df, \"/content/matching_task/train\", data_transforms[\"train\"])\n",
        "test_dataset = MatchingDataset(valid_df, \"/content/matching_task/train\", data_transforms[\"val\"])\n",
        "\n",
        "train_loader = torch.utils.data.DataLoader(train_dataset, batch_size=128, shuffle=True)\n",
        "test_loader = torch.utils.data.DataLoader(test_dataset, batch_size=128)\n",
        "\n",
        "model = models.resnet50(pretrained=True)\n",
        "num_ftrs = model.fc.in_features\n",
        "model.fc = nn.Linear(num_ftrs, 512)\n",
        "model.to(device)\n",
        "\n",
        "loss_func = losses.ArcFaceLoss(243, 512, margin=28.6, scale=64).to(device)\n",
        "\n",
        "optimizer = optim.Adam(list(model.parameters())+ list(loss_func.parameters()), lr=0.001)\n",
        "num_epochs = 30"
      ],
      "execution_count": null,
      "outputs": []
    },
    {
      "cell_type": "code",
      "metadata": {
        "id": "MdAiGiNciF7j"
      },
      "source": [
        "accuracy_calculator = AccuracyCalculator(include = (\"precision_at_1\",), k = 1)\n",
        "best_acc = 0\n",
        "for epoch in range(1, num_epochs+1):\n",
        "    train(model, loss_func, device, train_loader, optimizer, epoch)\n",
        "    acc = test(train_dataset, test_dataset, model, accuracy_calculator)\n",
        "    if best_acc <= acc[\"precision_at_1\"]:\n",
        "        best_acc = acc[\"precision_at_1\"]\n",
        "        best_model = copy.deepcopy(model.state_dict())"
      ],
      "execution_count": null,
      "outputs": []
    },
    {
      "cell_type": "code",
      "metadata": {
        "id": "R9u91yvPoky6"
      },
      "source": [
        "torch.save(best_model, \"/content/drive/MyDrive/ADL Work/matching_model_30epochs.pth\")"
      ],
      "execution_count": null,
      "outputs": []
    },
    {
      "cell_type": "code",
      "metadata": {
        "colab": {
          "base_uri": "https://localhost:8080/"
        },
        "id": "jSyH20hMot25",
        "outputId": "f4c4f668-0d7f-4245-a686-8b4a523621a0"
      },
      "source": [
        "best_acc"
      ],
      "execution_count": null,
      "outputs": [
        {
          "output_type": "execute_result",
          "data": {
            "text/plain": [
              "0.9218106995884774"
            ]
          },
          "metadata": {},
          "execution_count": 13
        }
      ]
    },
    {
      "cell_type": "code",
      "metadata": {
        "id": "0_kCsbqvsXFB"
      },
      "source": [
        "cos = nn.CosineSimilarity(dim=0, eps=1e-6)\n",
        "test_iter = iter(test_loader)\n",
        "model.eval()"
      ],
      "execution_count": null,
      "outputs": []
    },
    {
      "cell_type": "code",
      "metadata": {
        "id": "ETebSlG_skMo"
      },
      "source": [
        "sample, labels = next(test_iter)\n",
        "sample = sample.to(device)\n",
        "out = model(sample)"
      ],
      "execution_count": null,
      "outputs": []
    },
    {
      "cell_type": "code",
      "metadata": {
        "colab": {
          "base_uri": "https://localhost:8080/"
        },
        "id": "QnrYP8Hhsn8G",
        "outputId": "2d938b39-e910-4258-b804-c7ea0702cfd5"
      },
      "source": [
        "np.unique(labels.numpy(), return_counts=True)"
      ],
      "execution_count": null,
      "outputs": [
        {
          "output_type": "execute_result",
          "data": {
            "text/plain": [
              "(array([  0,  10,  11,  17,  24,  27,  28,  30,  31,  33,  36,  38,  40,\n",
              "         41,  45,  49,  50,  51,  52,  54,  55,  59,  60,  61,  63,  66,\n",
              "         67,  68,  71,  74,  76,  80,  81,  83,  84,  85,  86,  98,  99,\n",
              "        103, 109, 110, 111, 112, 113, 114, 115, 118, 119, 121, 125, 129,\n",
              "        131, 141, 142, 143, 144, 145, 148, 149, 152, 155, 157, 158, 161,\n",
              "        166, 171, 174, 177, 179, 180, 182, 187, 189, 192, 193, 197, 198,\n",
              "        201, 203, 204, 205, 206, 207, 208, 212, 213, 214, 215, 216, 218,\n",
              "        219, 220, 222, 224, 225, 226, 229, 235, 238, 239, 240, 242]),\n",
              " array([1, 1, 1, 1, 1, 1, 1, 2, 1, 1, 1, 1, 1, 1, 1, 2, 2, 2, 1, 1, 1, 1,\n",
              "        1, 1, 1, 1, 1, 1, 1, 1, 1, 1, 2, 1, 2, 1, 1, 1, 1, 1, 1, 2, 3, 1,\n",
              "        1, 2, 1, 1, 1, 2, 1, 1, 1, 1, 1, 1, 2, 3, 1, 3, 2, 2, 1, 2, 1, 1,\n",
              "        1, 1, 1, 1, 1, 2, 1, 1, 1, 1, 1, 1, 1, 2, 1, 2, 2, 1, 1, 2, 1, 1,\n",
              "        1, 1, 2, 1, 1, 1, 1, 1, 1, 1, 1, 1, 1, 1, 1]))"
            ]
          },
          "metadata": {},
          "execution_count": 30
        }
      ]
    },
    {
      "cell_type": "code",
      "metadata": {
        "colab": {
          "base_uri": "https://localhost:8080/"
        },
        "id": "7xo6vzwms0IT",
        "outputId": "5113e63f-7cfe-4c83-cebb-e0fcbb8cecfd"
      },
      "source": [
        "(labels == 21).nonzero(as_tuple=True)"
      ],
      "execution_count": null,
      "outputs": [
        {
          "output_type": "execute_result",
          "data": {
            "text/plain": [
              "(tensor([22, 88]),)"
            ]
          },
          "metadata": {},
          "execution_count": 26
        }
      ]
    },
    {
      "cell_type": "code",
      "metadata": {
        "colab": {
          "base_uri": "https://localhost:8080/"
        },
        "id": "0R4j5iYuslGE",
        "outputId": "8e9975e3-9ab0-4319-e250-6ae415897777"
      },
      "source": [
        "cos(out[22], out[88])"
      ],
      "execution_count": null,
      "outputs": [
        {
          "output_type": "execute_result",
          "data": {
            "text/plain": [
              "tensor(0.9858, device='cuda:0', grad_fn=<DivBackward0>)"
            ]
          },
          "metadata": {},
          "execution_count": 27
        }
      ]
    }
  ]
}